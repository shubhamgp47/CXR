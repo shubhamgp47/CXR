{
 "cells": [
  {
   "cell_type": "code",
   "execution_count": 1,
   "metadata": {},
   "outputs": [
    {
     "name": "stdout",
     "output_type": "stream",
     "text": [
      "Labels saved to binary_test_abn_vindr_16k_orig.csv\n"
     ]
    }
   ],
   "source": [
    "import json\n",
    "import numpy as np\n",
    "import csv\n",
    "\n",
    "# Load the JSON file\n",
    "with open('/home/woody/iwi5/iwi5204h/mmdetection/data/coco/train_abn_vindr_16k_orig.json') as f:\n",
    "    data = json.load(f)\n",
    "\n",
    "# Get the total number of classes and their names\n",
    "num_classes = len(data['categories'])\n",
    "class_names = [category['name'] for category in data['categories']]\n",
    "\n",
    "# Create a dictionary to map image filenames to labels\n",
    "image_labels = {}\n",
    "\n",
    "# Initialize the binary label matrix (one entry per image)\n",
    "for image in data['images']:\n",
    "    image_id = image['id']\n",
    "    file_name = image['file_name']\n",
    "    # Initialize an empty array for each image with all 0s (absent class)\n",
    "    image_labels[file_name] = np.zeros(num_classes)\n",
    "\n",
    "# Now process the annotations to update the labels\n",
    "for annotation in data['annotations']:\n",
    "    image_id = annotation['image_id']\n",
    "    category_id = annotation['category_id']\n",
    "    \n",
    "    # Find the corresponding image file name\n",
    "    for image in data['images']:\n",
    "        if image['id'] == image_id:\n",
    "            file_name = image['file_name']\n",
    "            # Mark the class as 1 (present)\n",
    "            image_labels[file_name][category_id] = 1\n",
    "            break\n",
    "\n",
    "# Define the output CSV file path\n",
    "output_file = 'binary_train_abn_vindr_16k_orig.csv'\n",
    "\n",
    "# Write the labels to a CSV file\n",
    "with open(output_file, mode='w', newline='') as file:\n",
    "    writer = csv.writer(file)\n",
    "\n",
    "    # Write the header: first column is 'image', the rest are class names\n",
    "    header = ['image'] + class_names\n",
    "    writer.writerow(header)\n",
    "\n",
    "    # Write each image and its corresponding binary labels\n",
    "    for img_name, labels in image_labels.items():\n",
    "        writer.writerow([img_name] + labels.tolist())\n",
    "\n",
    "print(f'Labels saved to {output_file}')\n"
   ]
  }
 ],
 "metadata": {
  "kernelspec": {
   "display_name": "Python 3",
   "language": "python",
   "name": "python3"
  },
  "language_info": {
   "codemirror_mode": {
    "name": "ipython",
    "version": 3
   },
   "file_extension": ".py",
   "mimetype": "text/x-python",
   "name": "python",
   "nbconvert_exporter": "python",
   "pygments_lexer": "ipython3",
   "version": "3.8.19"
  }
 },
 "nbformat": 4,
 "nbformat_minor": 2
}
