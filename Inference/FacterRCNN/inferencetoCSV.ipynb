{
 "cells": [
  {
   "cell_type": "code",
   "execution_count": 1,
   "metadata": {},
   "outputs": [],
   "source": [
    "import pandas as pd\n",
    "import os\n",
    "\n",
    "def convert_inference_to_csv(inference_file, output_csv):\n",
    "    with open(inference_file, 'r') as f:\n",
    "        results = []\n",
    "        current_image = None\n",
    "        \n",
    "        for line in f:\n",
    "            line = line.strip()\n",
    "            if line.startswith(\"Results for\"):\n",
    "                # Extract the filename\n",
    "                current_image = os.path.basename(line.split(\"Results for \")[1].strip().split(\":\")[0])\n",
    "            elif current_image is not None and ':' in line:\n",
    "                class_name, score = line.split(':')\n",
    "                class_name = class_name.strip()\n",
    "                score = float(score.strip())\n",
    "                \n",
    "                # Append the result\n",
    "                results.append([current_image, class_name, score])\n",
    "    \n",
    "    # Create a DataFrame and save to CSV\n",
    "    df = pd.DataFrame(results, columns=['image', 'class_name', 'probability'])\n",
    "    df.to_csv(output_csv, index=False)\n",
    "\n",
    "inference_file = \"inference_results.txt\" \n",
    "output_csv = \"cleaned_inference_results.csv\"\n",
    "\n",
    "convert_inference_to_csv(inference_file, output_csv)\n"
   ]
  }
 ],
 "metadata": {
  "kernelspec": {
   "display_name": "Python 3",
   "language": "python",
   "name": "python3"
  },
  "language_info": {
   "codemirror_mode": {
    "name": "ipython",
    "version": 3
   },
   "file_extension": ".py",
   "mimetype": "text/x-python",
   "name": "python",
   "nbconvert_exporter": "python",
   "pygments_lexer": "ipython3",
   "version": "3.8.19"
  }
 },
 "nbformat": 4,
 "nbformat_minor": 2
}
